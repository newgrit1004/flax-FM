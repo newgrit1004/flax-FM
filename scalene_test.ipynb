{
 "cells": [
  {
   "cell_type": "markdown",
   "metadata": {},
   "source": [
    "# Scalene로 profiling 하기\n",
    "* 조건\n",
    "    * scalene 설치(pip3 install scalene)"
   ]
  },
  {
   "cell_type": "code",
   "execution_count": 1,
   "metadata": {},
   "outputs": [],
   "source": [
    "from pathlib import Path\n",
    "directory=Path(\"/dist/flax-fm/flaxfm/model\")\n",
    "python_file_lists = list(directory.glob('*.py'))"
   ]
  },
  {
   "cell_type": "code",
   "execution_count": 2,
   "metadata": {},
   "outputs": [],
   "source": [
    "import subprocess\n",
    "for python_file in python_file_lists:\n",
    "    if python_file.stem == '__init__':\n",
    "        continue\n",
    "    file_with_extension = list(python_file.parts)[-1]\n",
    "    replaced_extension = file_with_extension.replace(python_file.suffix, '.html')\n",
    "    html_file = '/'.join(list(python_file.parts)[:-1] + [replaced_extension])[1:]\n",
    "    html_file_path_list = html_file.split('/')\n",
    "\n",
    "    #저장경로 설정\n",
    "    html_result_dir = 'profile_results'\n",
    "    html_file_path_list[3] = html_result_dir\n",
    "    html_file_path_list[4] = \"\"\n",
    "    html_result_file = '/'.join(html_file_path_list)\n",
    "\n",
    "\n",
    "    \"\"\"\n",
    "    --reduced-profile : memory, cpu, gpu activity 있는 line, file만 노출시켜줌.\n",
    "    \"\"\"\n",
    "    subprocess.run(['scalene', '--html', '--outfile', html_result_file, python_file])\n",
    "    #subprocess.run(['scalene', '--reduced-profile', '--html', '--outfile', html_result_file, python_file])"
   ]
  },
  {
   "cell_type": "code",
   "execution_count": null,
   "metadata": {},
   "outputs": [],
   "source": []
  }
 ],
 "metadata": {
  "kernelspec": {
   "display_name": "Python 3.8.10 64-bit",
   "language": "python",
   "name": "python3"
  },
  "language_info": {
   "codemirror_mode": {
    "name": "ipython",
    "version": 3
   },
   "file_extension": ".py",
   "mimetype": "text/x-python",
   "name": "python",
   "nbconvert_exporter": "python",
   "pygments_lexer": "ipython3",
   "version": "3.8.10"
  },
  "orig_nbformat": 4,
  "vscode": {
   "interpreter": {
    "hash": "31f2aee4e71d21fbe5cf8b01ff0e069b9275f58929596ceb00d14d90e3e16cd6"
   }
  }
 },
 "nbformat": 4,
 "nbformat_minor": 2
}
