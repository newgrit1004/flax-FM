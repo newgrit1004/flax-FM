{
 "cells": [
  {
   "cell_type": "markdown",
   "metadata": {},
   "source": [
    "# Load dataset"
   ]
  },
  {
   "cell_type": "code",
   "execution_count": 1,
   "metadata": {},
   "outputs": [
    {
     "name": "stderr",
     "output_type": "stream",
     "text": [
      "/usr/local/lib/python3.8/dist-packages/tqdm/auto.py:22: TqdmWarning: IProgress not found. Please update jupyter and ipywidgets. See https://ipywidgets.readthedocs.io/en/stable/user_install.html\n",
      "  from .autonotebook import tqdm as notebook_tqdm\n"
     ]
    }
   ],
   "source": [
    "from flaxfm.utils import config\n",
    "from flaxfm.dataset.movielens import MovieLens20MDataset\n",
    "import torch\n",
    "from torch.utils.data import DataLoader\n",
    "\n",
    "dataset = MovieLens20MDataset(dataset_path='/dist/dataset/ratings.csv')\n",
    "\n",
    "train_length = int(len(dataset) * 0.8)\n",
    "valid_length = int(len(dataset) * 0.1)\n",
    "test_length = len(dataset) - train_length - valid_length\n",
    "train_dataset, valid_dataset, test_dataset = torch.utils.data.random_split(\n",
    "        dataset, (train_length, valid_length, test_length))\n",
    "\n",
    "train_data_loader = DataLoader(train_dataset, batch_size=config.batch_size, num_workers=4)\n",
    "valid_data_loader = DataLoader(valid_dataset, batch_size=config.batch_size, num_workers=4)\n",
    "test_data_loader = DataLoader(test_dataset, batch_size=config.batch_size, num_workers=4)\n",
    "\n",
    "data_loader_dict = {}\n",
    "data_loader_dict['train'] = train_data_loader\n",
    "data_loader_dict['valid'] = valid_data_loader\n",
    "data_loader_dict['test'] = test_data_loader"
   ]
  },
  {
   "cell_type": "markdown",
   "metadata": {},
   "source": [
    "# Training code setting"
   ]
  },
  {
   "cell_type": "code",
   "execution_count": 3,
   "metadata": {},
   "outputs": [],
   "source": [
    "from typing import Dict\n",
    "import flax\n",
    "import jax\n",
    "from flaxfm.layer import FeaturesLinearFlax, FeaturesEmbeddingFlax, FactorizationMachineFlax\n",
    "from flax import linen as nn\n",
    "from jaxlib.xla_extension import DeviceArray\n",
    "import optax\n",
    "from flax.training import train_state\n",
    "from optax._src.loss import sigmoid_binary_cross_entropy\n",
    "import jax.numpy as jnp\n",
    "import numpy as np\n",
    "\n",
    "def create_train_state(model:nn.Module, rng:DeviceArray,\n",
    "                        data_loader:torch.utils.data.dataloader.DataLoader):\n",
    "\n",
    "    params = model.init(rng, next(train_data_loader.__iter__())[0].numpy())['params']\n",
    "    optimizer = optax.adam(config.learning_rate)\n",
    "    return train_state.TrainState.create(apply_fn=model.apply, params=params, tx=optimizer)\n",
    "\n",
    "\n",
    "\n",
    "@jax.jit\n",
    "def update_model(state:train_state.TrainState, grads:flax.core.frozen_dict.FrozenDict):\n",
    "    return state.apply_gradients(grads=grads)\n",
    "\n",
    "\n",
    "@jax.jit\n",
    "def train_epoch(state: train_state.TrainState, x_train:np.ndarray, y_train:np.ndarray):\n",
    "    def loss_fn(params):\n",
    "        preds = state.apply_fn({'params': params}, x_train)\n",
    "        loss = jnp.mean(sigmoid_binary_cross_entropy(preds, y_train))\n",
    "        return loss, preds\n",
    "\n",
    "\n",
    "    preds = state.apply_fn({'params': state.params}, x_train)\n",
    "    gradient_fn = jax.value_and_grad(loss_fn, has_aux=True)\n",
    "    (loss, _), grads = gradient_fn(state.params)\n",
    "    state = update_model(state, grads)\n",
    "    return state, loss\n",
    "\n",
    "\n",
    "\n",
    "def train_and_evaluate(data_loader_dict:Dict[str, torch.utils.data.dataloader.DataLoader],\n",
    "                        model:nn.Module):\n",
    "    rng = jax.random.PRNGKey(config.seed)\n",
    "    rng, init_rng = jax.random.split(rng)\n",
    "    state = create_train_state(model, init_rng, data_loader_dict['train'])\n",
    "\n",
    "    #train\n",
    "    for epoch in range(1, config.epochs+1):\n",
    "        running_loss, epoch_loss = [], []\n",
    "        for idx, batch in enumerate(data_loader_dict['train']):\n",
    "            x_train, y_train = list(map(lambda x : x.numpy(), batch))\n",
    "            state, loss = train_epoch(state, x_train, y_train)\n",
    "            epoch_loss.append(loss)\n",
    "            running_loss.append(loss)\n",
    "\n",
    "            if idx%2000 == 1999:\n",
    "                \"\"\"\n",
    "                많은 양의 epoch를 돌릴 경우 print문 주석처리\n",
    "                \"\"\"\n",
    "                #print(f'epoch {epoch}, {idx+1} loss: {jnp.mean(np.array(running_loss))}')\n",
    "                running_loss = []\n",
    "        print(f'Epoch: {epoch}, Epoch Loss: {jnp.mean(np.array(epoch_loss))}')\n",
    "        break\n"
   ]
  },
  {
   "cell_type": "markdown",
   "metadata": {},
   "source": [
    "# BatchNorm과 Dropout이 없는 모델의 경우의 트레이닝 코드\n",
    "- LogisticRegressionModel\n",
    "- FactorizationMachineModel\n",
    "- FieldAwareFactorizationMachineModel"
   ]
  },
  {
   "cell_type": "code",
   "execution_count": 4,
   "metadata": {},
   "outputs": [
    {
     "name": "stdout",
     "output_type": "stream",
     "text": [
      "Epoch: 1, Epoch Loss: 0.6217479109764099\n"
     ]
    }
   ],
   "source": [
    "#first epoch time:79 sec\n",
    "from flaxfm.model.lr import LogisticRegressionModelFlax\n",
    "model = LogisticRegressionModelFlax(dataset.field_dims)\n",
    "train_and_evaluate(data_loader_dict, model)"
   ]
  },
  {
   "cell_type": "code",
   "execution_count": 5,
   "metadata": {},
   "outputs": [
    {
     "name": "stdout",
     "output_type": "stream",
     "text": [
      "Epoch: 1, Epoch Loss: 0.6038864850997925\n"
     ]
    }
   ],
   "source": [
    "#first epoch time: 81 sec\n",
    "from flaxfm.model.fm import FactorizationMachineModelFlax\n",
    "model = FactorizationMachineModelFlax(dataset.field_dims, 16)\n",
    "train_and_evaluate(data_loader_dict, model)"
   ]
  },
  {
   "cell_type": "code",
   "execution_count": 6,
   "metadata": {},
   "outputs": [
    {
     "name": "stdout",
     "output_type": "stream",
     "text": [
      "Epoch: 1, Epoch Loss: 0.6038891077041626\n"
     ]
    }
   ],
   "source": [
    "#first epoch time: 83sec\n",
    "from flaxfm.model.ffm import FieldAwareFactorizationMachineModelFlax\n",
    "model = FieldAwareFactorizationMachineModelFlax(dataset.field_dims)\n",
    "train_and_evaluate(data_loader_dict, model)"
   ]
  }
 ],
 "metadata": {
  "kernelspec": {
   "display_name": "Python 3.8.10 64-bit",
   "language": "python",
   "name": "python3"
  },
  "language_info": {
   "codemirror_mode": {
    "name": "ipython",
    "version": 3
   },
   "file_extension": ".py",
   "mimetype": "text/x-python",
   "name": "python",
   "nbconvert_exporter": "python",
   "pygments_lexer": "ipython3",
   "version": "3.8.10"
  },
  "orig_nbformat": 4,
  "vscode": {
   "interpreter": {
    "hash": "31f2aee4e71d21fbe5cf8b01ff0e069b9275f58929596ceb00d14d90e3e16cd6"
   }
  }
 },
 "nbformat": 4,
 "nbformat_minor": 2
}
